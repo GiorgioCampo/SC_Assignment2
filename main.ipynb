{
 "cells": [
  {
   "cell_type": "markdown",
   "metadata": {},
   "source": [
    "# Scientific Computing Exercise Set 2"
   ]
  },
  {
   "cell_type": "markdown",
   "metadata": {},
   "source": [
    "**Authors**:  \n",
    "Mattia Monari, 15744124  \n",
    "Lorenzo Mainetti, 15546675  \n",
    "Giorgio Campisano, 14073145"
   ]
  },
  {
   "cell_type": "code",
   "execution_count": null,
   "metadata": {},
   "outputs": [],
   "source": [
    "import numpy as np\n",
    "import matplotlib.pyplot as plt\n",
    "\n",
    "plt.rcParams.update({'font.size': 14})\n",
    "savefig = False # Set to True to save plots"
   ]
  },
  {
   "cell_type": "markdown",
   "metadata": {},
   "source": [
    "## 2.1 DLA"
   ]
  },
  {
   "cell_type": "code",
   "execution_count": null,
   "metadata": {},
   "outputs": [],
   "source": [
    "from dla import run_dla_experiments, find_optimal_omega\n",
    "from utilities import calculate_fractal_dimension\n",
    "\n",
    "etas=[0, 0.5, 1.0, 1.5]\n",
    "\n",
    "# Find optimal omega for SOR\n",
    "best_omega = find_optimal_omega(size=100, num_omegas=30, etas=etas, savefig=savefig)\n",
    "\n",
    "# Test different eta values with the optimal omega\n",
    "print(\"\\nRunning full DLA simulations with optimal omega...\")\n",
    "results = run_dla_experiments(etas=etas, size=100, steps=500, savefig=savefig)\n",
    "\n",
    "# Measure fractal dimension\n",
    "print(\"\\nMeasuring fractal dimension...\")\n",
    "for i, sim in enumerate(results):\n",
    "    fractal_dimension = calculate_fractal_dimension(sim)\n",
    "    print(f\"Fractal dimension for {etas[i]}: {fractal_dimension}\")"
   ]
  },
  {
   "cell_type": "markdown",
   "metadata": {},
   "source": [
    "# 2.2 MC-DLA"
   ]
  },
  {
   "cell_type": "code",
   "execution_count": null,
   "metadata": {},
   "outputs": [],
   "source": [
    "from mca import monte_carlo_dla, plot_grid, plot_comparison, create_animation\n",
    "from matplotlib import colors\n",
    "\n",
    "results = []\n",
    "\n",
    "# Parameters\n",
    "size = 100\n",
    "num_walkers = 10000\n",
    "ps_values = [0.1, 0.2, 0.4, 1.0]\n",
    "animation = False # Set this parameter to True to create an animation. NB: FFMPEG needed, otherwise set writer = 'pillow'\n",
    "\n",
    "for ps in ps_values:\n",
    "    grid, history = monte_carlo_dla(size, num_walkers, ps)\n",
    "    plot_grid(grid, title=r\"Monte Carlo DLA, $p_s = %.2f$\" % ps, filename=f\"images/mca/mca_{ps}.pdf\",\n",
    "                savefig=False, cmap=colors.ListedColormap(['white', 'black']), colorbar=False)\n",
    "    results.append(grid)\n",
    "\n",
    "    if animation:\n",
    "        ani = create_animation(history, ps)\n",
    "        ani.save(f'images/mca/dla_animation_ps_{ps}.mp4', writer='ffmpeg', fps=10, dpi=600)\n",
    "        plt.show()\n",
    "\n",
    "plot_comparison(results, title=\"Monte Carlo DLA for Different $p_s$ Values\", sub_titles=[r\"$p_s = %.2f$\" % ps for ps in ps_values], savefig=savefig,\n",
    "                filename=\"images/mca/mca_comparison.pdf\", cmap=colors.ListedColormap(['white', 'black']), colorbar=False)"
   ]
  },
  {
   "cell_type": "markdown",
   "metadata": {},
   "source": [
    "## 2.3 Gray-Scott Model"
   ]
  },
  {
   "cell_type": "code",
   "execution_count": null,
   "metadata": {},
   "outputs": [],
   "source": [
    "from gray_scott import gray_scott_simulation\n",
    "\n",
    "size = 100\n",
    "T = 200000\n",
    "dt = 1 \n",
    "dx = 1.5\n",
    "save_interval = 0 # Set to a positive value to create an animation\n",
    "steps = int(T / dt)\n",
    "\n",
    "# Run simulations with different parameters\n",
    "\n",
    "# Mixed dots and waves (default)\n",
    "U1, V1 = gray_scott_simulation(size=size, Du=0.16, Dv=0.08, f=0.035, k=0.060, \n",
    "                                steps=steps, dt=dt, dx=dx, save_interval=0)\n",
    "\n",
    "# Sparse spots\n",
    "U2, V2 = gray_scott_simulation(size=size, Du=0.16, Dv=0.08, f=0.022, k=0.051, \n",
    "                                steps=steps, dt=dt, dx=dx, save_interval=0)\n",
    "\n",
    "# Dense labyrinth-like waves\n",
    "U3, V3 = gray_scott_simulation(size=size, Du=0.16, Dv=0.08, f=0.060, k=0.062, \n",
    "                                steps=steps, dt=dt, dx=dx, save_interval=0)\n",
    "\n",
    "# Very fine, complex structures\n",
    "U4, V4 = gray_scott_simulation(size=size, Du=0.16, Dv=0.08, f=0.025, k=0.055, \n",
    "                                                steps=steps, dt=dt, dx=dx, save_interval=save_interval)\n",
    "\n",
    "# Create comparison plot\n",
    "results = [(U1 - V1), (U2 - V2), (U3 - V3), (U4 - V4)]\n",
    "\n",
    "plot_comparison(results, title=\"Gray-Scott Model Simulation\",\n",
    "                sub_titles=[\"Mixed dots and waves\", \"Sparse spots\", \n",
    "                            \"Dense labyrinth-like waves\", \"Very fine, complex structures\"],\n",
    "                savefig=savefig, filename=\"images/gs/gs_comparison.pdf\", \n",
    "                cmap='magma', colorbar=True)\n",
    "\n",
    "plt.show()"
   ]
  },
  {
   "cell_type": "markdown",
   "metadata": {},
   "source": []
  }
 ],
 "metadata": {
  "kernelspec": {
   "display_name": "sklearn-env",
   "language": "python",
   "name": "python3"
  },
  "language_info": {
   "codemirror_mode": {
    "name": "ipython",
    "version": 3
   },
   "file_extension": ".py",
   "mimetype": "text/x-python",
   "name": "python",
   "nbconvert_exporter": "python",
   "pygments_lexer": "ipython3",
   "version": "3.13.0"
  }
 },
 "nbformat": 4,
 "nbformat_minor": 2
}
